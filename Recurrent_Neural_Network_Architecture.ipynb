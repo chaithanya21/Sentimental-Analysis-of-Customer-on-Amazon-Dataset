{
  "nbformat": 4,
  "nbformat_minor": 0,
  "metadata": {
    "colab": {
      "name": "Recurrent Neural Network Architecture",
      "provenance": [],
      "collapsed_sections": []
    },
    "kernelspec": {
      "name": "python3",
      "display_name": "Python 3"
    },
    "accelerator": "GPU"
  },
  "cells": [
    {
      "cell_type": "markdown",
      "metadata": {
        "id": "tyMglYIZH2eh",
        "colab_type": "text"
      },
      "source": [
        "Installing tensorflow Version 2.0"
      ]
    },
    {
      "cell_type": "code",
      "metadata": {
        "id": "54YIxBl0wBZe",
        "colab_type": "code",
        "colab": {}
      },
      "source": [
        "import pandas as pd\n",
        "import numpy as np\n",
        "import matplotlib.pyplot as plt\n",
        "from tensorflow.python.keras import models, layers, optimizers\n",
        "import tensorflow as tf\n",
        "from tensorflow.keras.preprocessing.text import Tokenizer, text_to_word_sequence\n",
        "from tensorflow.keras.preprocessing.sequence import pad_sequences\n",
        "import bz2\n",
        "from sklearn.metrics import f1_score, roc_auc_score, accuracy_score\n",
        "import re"
      ],
      "execution_count": 0,
      "outputs": []
    },
    {
      "cell_type": "code",
      "metadata": {
        "id": "0nE4SPDbwgKo",
        "colab_type": "code",
        "colab": {}
      },
      "source": [
        "%matplotlib inline"
      ],
      "execution_count": 0,
      "outputs": []
    },
    {
      "cell_type": "code",
      "metadata": {
        "id": "iW3opdlnIgne",
        "colab_type": "code",
        "colab": {}
      },
      "source": [
        "!pip install -U -q kaggle\n",
        "!mkdir -p ~/.kaggle"
      ],
      "execution_count": 0,
      "outputs": []
    },
    {
      "cell_type": "code",
      "metadata": {
        "id": "bepknO43InWJ",
        "colab_type": "code",
        "colab": {}
      },
      "source": [
        "from google.colab import files\n",
        "files.upload()"
      ],
      "execution_count": 0,
      "outputs": []
    },
    {
      "cell_type": "code",
      "metadata": {
        "id": "KVm0uii5Iv6N",
        "colab_type": "code",
        "outputId": "608f198f-7b2f-4dfb-b870-e8bcd5749d84",
        "colab": {
          "base_uri": "https://localhost:8080/",
          "height": 445
        }
      },
      "source": [
        "!cp kaggle.json ~/.kaggle/\n",
        "!kaggle datasets list"
      ],
      "execution_count": 0,
      "outputs": [
        {
          "output_type": "stream",
          "text": [
            "Warning: Your Kaggle API key is readable by other users on this system! To fix this, you can run 'chmod 600 /root/.kaggle/kaggle.json'\n",
            "Warning: Looks like you're using an outdated API Version, please consider updating (server 1.5.6 / client 1.5.4)\n",
            "ref                                                      title                                               size  lastUpdated          downloadCount  \n",
            "-------------------------------------------------------  -------------------------------------------------  -----  -------------------  -------------  \n",
            "rajeevw/ufcdata                                          UFC-Fight historical data from 1993 to 2019          3MB  2019-07-05 09:58:02           8400  \n",
            "gustavomodelli/forest-fires-in-brazil                    Forest Fires in Brazil                              31KB  2019-08-24 16:09:16          14203  \n",
            "chirin/africa-economic-banking-and-systemic-crisis-data  Africa Economic, Banking and Systemic Crisis Data   14KB  2019-07-21 02:00:17           4904  \n",
            "ruslankl/european-union-lgbt-survey-2012                 EU LGBT Survey                                     610KB  2019-07-19 11:15:25           2005  \n",
            "akhilv11/border-crossing-entry-data                      Border Crossing Entry Data                           4MB  2019-08-21 14:51:34           5936  \n",
            "kapilverma/hindi-bible                                   Hindi Bible                                          5MB  2019-09-07 18:04:35            431  \n",
            "tristan581/17k-apple-app-store-strategy-games            17K Mobile Strategy Games                            8MB  2019-08-26 08:22:16          12266  \n",
            "shuyangli94/food-com-recipes-and-user-interactions       Food.com Recipes and Interactions                  267MB  2019-11-08 01:18:21           4230  \n",
            "hmavrodiev/sofia-air-quality-dataset                     Sofia air quality dataset                            3GB  2019-09-14 05:48:09           1705  \n",
            "grikomsn/amazon-cell-phones-reviews                      Amazon Cell Phones Reviews                          10MB  2019-09-29 02:26:48           3397  \n",
            "pascalbliem/european-social-survey-ess-8-ed21-201617     European Social Survey (ESS) 8 ed2.1 (2016/17)      10MB  2019-09-29 07:30:37            906  \n",
            "brkurzawa/us-breweries                                   US Breweries                                        76KB  2019-10-02 03:15:27           2633  \n",
            "srikantsahu/co2-and-ghg-emission-data                    CO2 and GHG emission data                           91KB  2019-09-26 20:10:59           2309  \n",
            "jojoker/singapore-airbnb                                 Singapore Airbnb                                   350KB  2019-09-25 22:05:44           2928  \n",
            "irinachuchueva/russian-wholesale-electricity-market      Russian Wholesale Electricity Market                 1MB  2019-10-09 08:20:57            905  \n",
            "smid80/canadian-federal-election-results-timeseries      Canadian Federal Election Results (Timeseries)      18MB  2019-10-09 11:08:29            890  \n",
            "nitinsss/military-expenditure-of-countries-19602019      Military Spending of Countries (1960-2019)          55KB  2019-10-10 12:17:37           3793  \n",
            "hmavrodiev/london-bike-sharing-dataset                   London bike sharing dataset                        165KB  2019-10-10 12:49:37           4320  \n",
            "valentynsichkar/traffic-signs-preprocessed               Traffic Signs Preprocessed                           4GB  2019-08-31 18:22:11           1672  \n",
            "mabusalah/brent-oil-prices                               Brent Oil Prices                                    38KB  2019-10-14 12:31:05           2128  \n"
          ],
          "name": "stdout"
        }
      ]
    },
    {
      "cell_type": "markdown",
      "metadata": {
        "id": "CKU06Ye5I42S",
        "colab_type": "text"
      },
      "source": [
        "**DOWNLOADING THE AMAZON CUSTOMER PRODUCT REVIEWS FOR SENTIMENTAL ANALYSIS**"
      ]
    },
    {
      "cell_type": "code",
      "metadata": {
        "id": "_Kzzc7AgI4D0",
        "colab_type": "code",
        "outputId": "a43d5a77-6419-4edb-9010-97dda53c7138",
        "colab": {
          "base_uri": "https://localhost:8080/",
          "height": 85
        }
      },
      "source": [
        "!kaggle datasets download -d bittlingmayer/amazonreviews -w -f train.ft.txt.bz2 \n"
      ],
      "execution_count": 0,
      "outputs": [
        {
          "output_type": "stream",
          "text": [
            "Warning: Your Kaggle API key is readable by other users on this system! To fix this, you can run 'chmod 600 /root/.kaggle/kaggle.json'\n",
            "Downloading train.ft.txt.bz2.zip to .\n",
            " 98% 433M/443M [00:09<00:00, 42.2MB/s]\n",
            "100% 443M/443M [00:09<00:00, 47.8MB/s]\n"
          ],
          "name": "stdout"
        }
      ]
    },
    {
      "cell_type": "code",
      "metadata": {
        "id": "ymhP5-2pKby7",
        "colab_type": "code",
        "outputId": "c599e5fe-6f16-4993-8f94-653d4bca34b5",
        "colab": {
          "base_uri": "https://localhost:8080/",
          "height": 34
        }
      },
      "source": [
        "!ls"
      ],
      "execution_count": 0,
      "outputs": [
        {
          "output_type": "stream",
          "text": [
            "kaggle.json  sample_data  train.ft.txt.bz2.zip\n"
          ],
          "name": "stdout"
        }
      ]
    },
    {
      "cell_type": "code",
      "metadata": {
        "id": "Tn9j5fH7KhXa",
        "colab_type": "code",
        "outputId": "7eb920b2-bb3a-4b00-e71d-c10789f70458",
        "colab": {
          "base_uri": "https://localhost:8080/",
          "height": 51
        }
      },
      "source": [
        "#UNZIPPING THE FILE\n",
        "!unzip train.ft.txt.bz2.zip"
      ],
      "execution_count": 0,
      "outputs": [
        {
          "output_type": "stream",
          "text": [
            "Archive:  train.ft.txt.bz2.zip\n",
            "  inflating: train.ft.txt.bz2        \n"
          ],
          "name": "stdout"
        }
      ]
    },
    {
      "cell_type": "code",
      "metadata": {
        "id": "Xyr7HI1pK1pR",
        "colab_type": "code",
        "colab": {}
      },
      "source": [
        "\n",
        "def get_labels_and_texts(file):\n",
        "    labels = []\n",
        "    texts = []\n",
        "    for line in bz2.BZ2File(file):\n",
        "        x = line.decode(\"utf-8\")\n",
        "        labels.append(int(x[9]) - 1)\n",
        "        texts.append(x[10:].strip())\n",
        "    return np.array(labels), texts"
      ],
      "execution_count": 0,
      "outputs": []
    },
    {
      "cell_type": "code",
      "metadata": {
        "id": "7qKE3lKBKoyq",
        "colab_type": "code",
        "colab": {}
      },
      "source": [
        "Labels,Features = get_labels_and_texts('train.ft.txt.bz2')"
      ],
      "execution_count": 0,
      "outputs": []
    },
    {
      "cell_type": "code",
      "metadata": {
        "id": "BgdnM26lLeEv",
        "colab_type": "code",
        "outputId": "a1283843-ab6f-46ab-8914-69e87a0c39de",
        "colab": {
          "base_uri": "https://localhost:8080/",
          "height": 68
        }
      },
      "source": [
        "print('Labels:',Labels)\n",
        "print('Shape of Labels:',Labels.shape)\n",
        "print('Total Number of Texts(CUSTOMER REVIEWS):',len(Features))\n"
      ],
      "execution_count": 0,
      "outputs": [
        {
          "output_type": "stream",
          "text": [
            "Labels: [1 1 1 ... 0 0 1]\n",
            "Shape of Labels: (3600000,)\n",
            "Total Number of Texts(CUSTOMER REVIEWS): 3600000\n"
          ],
          "name": "stdout"
        }
      ]
    },
    {
      "cell_type": "code",
      "metadata": {
        "id": "m1kj5e1lM08d",
        "colab_type": "code",
        "colab": {}
      },
      "source": [
        "import re\n",
        "NON_ALPHANUM = re.compile(r'[\\W]')\n",
        "NON_ASCII = re.compile(r'[^a-z0-1\\s]')\n",
        "def normalize_texts(texts):\n",
        "    normalized_texts = []\n",
        "    for text in texts:\n",
        "        lower = text.lower()\n",
        "        no_punctuation = NON_ALPHANUM.sub(r' ', lower)\n",
        "        no_non_ascii = NON_ASCII.sub(r'', no_punctuation)\n",
        "        normalized_texts.append(no_non_ascii)\n",
        "    return normalized_texts"
      ],
      "execution_count": 0,
      "outputs": []
    },
    {
      "cell_type": "code",
      "metadata": {
        "id": "ZS-ohepDNVDh",
        "colab_type": "code",
        "colab": {}
      },
      "source": [
        "Features = normalize_texts(Features)\n"
      ],
      "execution_count": 0,
      "outputs": []
    },
    {
      "cell_type": "code",
      "metadata": {
        "id": "ER1KjC8yYZVe",
        "colab_type": "code",
        "colab": {}
      },
      "source": [
        "Features=Features[:20000]"
      ],
      "execution_count": 0,
      "outputs": []
    },
    {
      "cell_type": "code",
      "metadata": {
        "id": "xMKTwEqFlBNf",
        "colab_type": "code",
        "outputId": "f5989448-ee0f-4ddc-b870-e2342abad4ed",
        "colab": {
          "base_uri": "https://localhost:8080/",
          "height": 54
        }
      },
      "source": [
        "Features[0]"
      ],
      "execution_count": 0,
      "outputs": [
        {
          "output_type": "execute_result",
          "data": {
            "text/plain": [
              "'stuning even for the non gamer  this sound track was beautiful  it paints the senery in your mind so well i would recomend it even to people who hate vid  game music  i have played the game chrono cross but out of all of the games i have ever played it has the best music  it backs away from crude keyboarding and takes a fresher step with grate guitars and soulful orchestras  it would impress anyone who cares to listen    '"
            ]
          },
          "metadata": {
            "tags": []
          },
          "execution_count": 33
        }
      ]
    },
    {
      "cell_type": "code",
      "metadata": {
        "id": "gkxGp4UweYLz",
        "colab_type": "code",
        "outputId": "52da6544-1acf-463a-bc95-124f4fd3094b",
        "colab": {
          "base_uri": "https://localhost:8080/",
          "height": 34
        }
      },
      "source": [
        "len(Features)"
      ],
      "execution_count": 0,
      "outputs": [
        {
          "output_type": "execute_result",
          "data": {
            "text/plain": [
              "20000"
            ]
          },
          "metadata": {
            "tags": []
          },
          "execution_count": 16
        }
      ]
    },
    {
      "cell_type": "code",
      "metadata": {
        "id": "V3GEChoBlF80",
        "colab_type": "code",
        "outputId": "0699bbda-0adb-490a-d7bc-84e9f5bd8310",
        "colab": {
          "base_uri": "https://localhost:8080/",
          "height": 34
        }
      },
      "source": [
        "Labels[0]"
      ],
      "execution_count": 0,
      "outputs": [
        {
          "output_type": "execute_result",
          "data": {
            "text/plain": [
              "1"
            ]
          },
          "metadata": {
            "tags": []
          },
          "execution_count": 34
        }
      ]
    },
    {
      "cell_type": "code",
      "metadata": {
        "id": "2u8zkV2he-p4",
        "colab_type": "code",
        "outputId": "429bf2bb-c652-4638-ebd6-dfddb15cebe5",
        "colab": {
          "base_uri": "https://localhost:8080/",
          "height": 34
        }
      },
      "source": [
        "Labels=Labels[:20000]\n",
        "len(Labels)"
      ],
      "execution_count": 0,
      "outputs": [
        {
          "output_type": "execute_result",
          "data": {
            "text/plain": [
              "20000"
            ]
          },
          "metadata": {
            "tags": []
          },
          "execution_count": 17
        }
      ]
    },
    {
      "cell_type": "markdown",
      "metadata": {
        "id": "Hge32250Mh5g",
        "colab_type": "text"
      },
      "source": [
        "**SPLITTING THE DATASET INTO TRAIN, VALIDATION AND TEST SETS**"
      ]
    },
    {
      "cell_type": "code",
      "metadata": {
        "id": "VxG0EyOJMVjP",
        "colab_type": "code",
        "colab": {}
      },
      "source": [
        "from sklearn.model_selection import train_test_split\n",
        "x_train, x_test, y_train, y_test = train_test_split(\n",
        "    Features, Labels, random_state=1, test_size=0.2)"
      ],
      "execution_count": 0,
      "outputs": []
    },
    {
      "cell_type": "code",
      "metadata": {
        "id": "FEVBn07madjO",
        "colab_type": "code",
        "colab": {}
      },
      "source": [
        "x_train,x_val,y_train,y_val=train_test_split(x_train,y_train,test_size=0.25,random_state=1)"
      ],
      "execution_count": 0,
      "outputs": []
    },
    {
      "cell_type": "code",
      "metadata": {
        "id": "Fh-LTto45UQ8",
        "colab_type": "code",
        "outputId": "07969849-4dd0-4dab-a129-215d51050716",
        "colab": {
          "base_uri": "https://localhost:8080/",
          "height": 68
        }
      },
      "source": [
        "print('Length of Training Data set:',len(x_train))\n",
        "print('Length of Validation Data set:',len(x_val))\n",
        "print('Length of Testing Data set:',len(x_test))"
      ],
      "execution_count": 0,
      "outputs": [
        {
          "output_type": "stream",
          "text": [
            "Length of Training Data set: 12000\n",
            "Length of Validation Data set: 4000\n",
            "Length of Testing Data set: 4000\n"
          ],
          "name": "stdout"
        }
      ]
    },
    {
      "cell_type": "code",
      "metadata": {
        "id": "Q7M1ZGPge94i",
        "colab_type": "code",
        "outputId": "896f90ce-5a31-49cc-9248-a68bf7e7d9c3",
        "colab": {
          "base_uri": "https://localhost:8080/",
          "height": 68
        }
      },
      "source": [
        "#SHOWS 60% Training Data and Remaining Data is For Validation and Testing\n",
        "\n",
        "for i in [x_train,x_val,x_test]:\n",
        "  print(round(len(i)/len(Labels),2))"
      ],
      "execution_count": 0,
      "outputs": [
        {
          "output_type": "stream",
          "text": [
            "0.6\n",
            "0.2\n",
            "0.2\n"
          ],
          "name": "stdout"
        }
      ]
    },
    {
      "cell_type": "markdown",
      "metadata": {
        "id": "eQ6qUWEjgS0M",
        "colab_type": "text"
      },
      "source": [
        "Keras(A Deep Learning Framework) provides some tools for converting text to formats that are useful in deep learning models. "
      ]
    },
    {
      "cell_type": "code",
      "metadata": {
        "id": "tNjOp85lfdy7",
        "colab_type": "code",
        "colab": {}
      },
      "source": [
        "MAX_FEATURES =4000 \n",
        "tokenizer = Tokenizer(num_words=MAX_FEATURES)\n",
        "tokenizer.fit_on_texts(x_train)\n",
        "x_train = tokenizer.texts_to_sequences(x_train)\n",
        "x_val = tokenizer.texts_to_sequences(x_val)\n",
        "x_test = tokenizer.texts_to_sequences(x_test)"
      ],
      "execution_count": 0,
      "outputs": []
    },
    {
      "cell_type": "code",
      "metadata": {
        "id": "wY-LO3exiFse",
        "colab_type": "code",
        "colab": {}
      },
      "source": [
        "MAX_LENGTH = max(len(train_ex) for train_ex in x_train)\n",
        "x_train = pad_sequences(x_train, maxlen=MAX_LENGTH)\n",
        "x_val = pad_sequences(x_val, maxlen=MAX_LENGTH)\n",
        "x_test = pad_sequences(x_test, maxlen=MAX_LENGTH)"
      ],
      "execution_count": 0,
      "outputs": []
    },
    {
      "cell_type": "code",
      "metadata": {
        "id": "AaMqNnnVigmv",
        "colab_type": "code",
        "outputId": "f96bbc7d-aec5-4607-8b32-39f18f701d69",
        "colab": {
          "base_uri": "https://localhost:8080/",
          "height": 136
        }
      },
      "source": [
        "#Training data After turning all the sentences into same Length\n",
        "x_test"
      ],
      "execution_count": 0,
      "outputs": [
        {
          "output_type": "execute_result",
          "data": {
            "text/plain": [
              "array([[   0,    0,    0, ...,   74,   93,  134],\n",
              "       [   0,    0,    0, ...,    2,  265,    6],\n",
              "       [   0,    0,    0, ...,  627,    3, 1066],\n",
              "       ...,\n",
              "       [   0,    0,    0, ...,   83,    8,  139],\n",
              "       [   0,    0,    0, ...,  858,   78,  850],\n",
              "       [   0,    0,    0, ...,   11,  376,   14]], dtype=int32)"
            ]
          },
          "metadata": {
            "tags": []
          },
          "execution_count": 25
        }
      ]
    },
    {
      "cell_type": "markdown",
      "metadata": {
        "id": "xcIKmkgtjPlk",
        "colab_type": "text"
      },
      "source": [
        "CONVOLUTIONAL NEURAL NETWORK FOR SENTIMENTAL ANALYSIS"
      ]
    },
    {
      "cell_type": "code",
      "metadata": {
        "id": "xZDXb-EeiyAr",
        "colab_type": "code",
        "colab": {}
      },
      "source": [
        "def build_rnn_model():\n",
        "    sequences = layers.Input(shape=(MAX_LENGTH,))\n",
        "    embedded = layers.Embedding(MAX_FEATURES, 64)(sequences)\n",
        "    x = layers.GRU(128, return_sequences=True)(embedded)\n",
        "    x = layers.GRU(128)(x)\n",
        "    x = layers.Dense(32, activation='relu')(x)\n",
        "    x = layers.Dense(100, activation='relu')(x)\n",
        "    predictions = layers.Dense(1, activation='sigmoid')(x)\n",
        "    model = models.Model(inputs=sequences, outputs=predictions)\n",
        "    model.compile(\n",
        "        optimizer='rmsprop',\n",
        "        loss='binary_crossentropy',\n",
        "        metrics=['binary_accuracy']\n",
        "    )\n",
        "    return model\n",
        "    \n",
        "rnn_model = build_rnn_model()"
      ],
      "execution_count": 0,
      "outputs": []
    },
    {
      "cell_type": "code",
      "metadata": {
        "id": "Z_n4akOOjY6j",
        "colab_type": "code",
        "outputId": "c8c55038-7355-434a-bc37-4370aa832dc9",
        "colab": {
          "base_uri": "https://localhost:8080/",
          "height": 241
        }
      },
      "source": [
        "rnn_model.fit(\n",
        "    x_train, \n",
        "    y_train, \n",
        "    batch_size=64,\n",
        "    epochs=5,\n",
        "    validation_data=(x_val, y_val), )"
      ],
      "execution_count": 0,
      "outputs": [
        {
          "output_type": "stream",
          "text": [
            "Train on 12000 samples, validate on 4000 samples\n",
            "Epoch 1/5\n",
            "12000/12000 [==============================] - 119s 10ms/sample - loss: 0.5086 - binary_accuracy: 0.7508 - val_loss: 0.3961 - val_binary_accuracy: 0.8292\n",
            "Epoch 2/5\n",
            "12000/12000 [==============================] - 117s 10ms/sample - loss: 0.3404 - binary_accuracy: 0.8611 - val_loss: 0.3757 - val_binary_accuracy: 0.8620\n",
            "Epoch 3/5\n",
            "12000/12000 [==============================] - 118s 10ms/sample - loss: 0.2695 - binary_accuracy: 0.9007 - val_loss: 0.3135 - val_binary_accuracy: 0.8792\n",
            "Epoch 4/5\n",
            "12000/12000 [==============================] - 120s 10ms/sample - loss: 0.2266 - binary_accuracy: 0.9178 - val_loss: 0.2916 - val_binary_accuracy: 0.8903\n",
            "Epoch 5/5\n",
            "12000/12000 [==============================] - 122s 10ms/sample - loss: 0.1849 - binary_accuracy: 0.9323 - val_loss: 0.3464 - val_binary_accuracy: 0.8905\n"
          ],
          "name": "stdout"
        },
        {
          "output_type": "execute_result",
          "data": {
            "text/plain": [
              "<tensorflow.python.keras.callbacks.History at 0x7f98a3fe1320>"
            ]
          },
          "metadata": {
            "tags": []
          },
          "execution_count": 27
        }
      ]
    },
    {
      "cell_type": "markdown",
      "metadata": {
        "id": "RD1jhUMz83zH",
        "colab_type": "text"
      },
      "source": [
        "EVALUATING ON THE TEST DATA"
      ]
    },
    {
      "cell_type": "code",
      "metadata": {
        "id": "CUcZP5OtjhZ9",
        "colab_type": "code",
        "outputId": "b320400c-3a32-4673-ba79-83e4f263ac16",
        "colab": {
          "base_uri": "https://localhost:8080/",
          "height": 68
        }
      },
      "source": [
        "loss, accuracy = rnn_model.evaluate(x_test,y_test)\n",
        "\n",
        "print(\"Loss: \", loss)\n",
        "print(\"Accuracy: \", accuracy)"
      ],
      "execution_count": 0,
      "outputs": [
        {
          "output_type": "stream",
          "text": [
            "4000/4000 [==============================] - 17s 4ms/sample - loss: 0.3501 - binary_accuracy: 0.8898\n",
            "Loss:  0.35005152216553687\n",
            "Accuracy:  0.88975\n"
          ],
          "name": "stdout"
        }
      ]
    },
    {
      "cell_type": "code",
      "metadata": {
        "id": "Q_pXPulVD2an",
        "colab_type": "code",
        "colab": {}
      },
      "source": [
        ""
      ],
      "execution_count": 0,
      "outputs": []
    }
  ]
}